{
 "cells": [
  {
   "cell_type": "markdown",
   "metadata": {},
   "source": [
    "# Hand written digit classification"
   ]
  },
  {
   "cell_type": "code",
   "execution_count": 23,
   "metadata": {},
   "outputs": [],
   "source": [
    "import os\n",
    "import tensorflow as tf\n",
    "import numpy as np\n",
    "import matplotlib.pyplot as plt\n",
    "import keras\n",
    "from keras.datasets import mnist \n",
    "from keras.models import Sequential\n",
    "from keras.layers import Dense, Dropout\n",
    "from keras.optimizers import RMSprop"
   ]
  },
  {
   "cell_type": "markdown",
   "metadata": {},
   "source": [
    "### Network Trained on 60,000 examples (Baseline)"
   ]
  },
  {
   "cell_type": "code",
   "execution_count": 24,
   "metadata": {},
   "outputs": [],
   "source": [
    "(_x_train, _y_train), (_x_test, _y_test) = mnist.load_data()"
   ]
  },
  {
   "cell_type": "code",
   "execution_count": 25,
   "metadata": {},
   "outputs": [],
   "source": [
    "x_train = _x_train.reshape(60000, 784).astype(\"float32\") / 255\n",
    "x_test = _x_test.reshape(10000, 784).astype(\"float32\") / 255\n",
    "\n",
    "y_train = keras.utils.to_categorical(_y_train, 10)\n",
    "y_test = keras.utils.to_categorical(_y_test, 10)"
   ]
  },
  {
   "cell_type": "code",
   "execution_count": 26,
   "metadata": {},
   "outputs": [
    {
     "data": {
      "image/png": "[encoded data removed]",
      "text/plain": [
       "<Figure size 432x288 with 1 Axes>"
      ]
     },
     "metadata": {},
     "output_type": "display_data"
    }
   ],
   "source": [
    "def display_sample(num, inverted=False):\n",
    "    digit = x_train[num].reshape(28,28)\n",
    "    if inverted:\n",
    "        digit = inverted_x_train[num].reshape(28,28)\n",
    "    plt.figure()\n",
    "    plt.title(f\"Training example number: {num}, Label: {y_train[num].argmax(axis=0)}\")\n",
    "    plt.imshow(digit, cmap = plt.get_cmap(\"gray_r\"))\n",
    "    plt.show()\n",
    "\n",
    "display_sample(13)"
   ]
  },
  {
   "cell_type": "code",
   "execution_count": 27,
   "metadata": {},
   "outputs": [],
   "source": [
    "model = Sequential()\n",
    "model.add(Dense(512, activation=\"relu\", input_shape=(784,)))\n",
    "model.add(Dense(10, activation=\"softmax\"))"
   ]
  },
  {
   "cell_type": "code",
   "execution_count": 28,
   "metadata": {},
   "outputs": [
    {
     "name": "stdout",
     "output_type": "stream",
     "text": [
      "_________________________________________________________________\n",
      "Layer (type)                 Output Shape              Param #   \n",
      "=================================================================\n",
      "dense_5 (Dense)              (None, 512)               401920    \n",
      "_________________________________________________________________\n",
      "dense_6 (Dense)              (None, 10)                5130      \n",
      "=================================================================\n",
      "Total params: 407,050\n",
      "Trainable params: 407,050\n",
      "Non-trainable params: 0\n",
      "_________________________________________________________________\n"
     ]
    }
   ],
   "source": [
    "model.summary()"
   ]
  },
  {
   "cell_type": "code",
   "execution_count": 29,
   "metadata": {},
   "outputs": [],
   "source": [
    "model.compile(loss=\"categorical_crossentropy\", optimizer=RMSprop(), metrics=[\"accuracy\"])"
   ]
  },
  {
   "cell_type": "code",
   "execution_count": 30,
   "metadata": {},
   "outputs": [
    {
     "name": "stdout",
     "output_type": "stream",
     "text": [
      "Train on 60000 samples, validate on 10000 samples\n",
      "Epoch 1/10\n",
      " - 5s - loss: 0.2423 - acc: 0.9289 - val_loss: 0.1158 - val_acc: 0.9652\n",
      "Epoch 2/10\n",
      " - 6s - loss: 0.0971 - acc: 0.9710 - val_loss: 0.0869 - val_acc: 0.9716\n",
      "Epoch 3/10\n",
      " - 6s - loss: 0.0654 - acc: 0.9804 - val_loss: 0.0722 - val_acc: 0.9774\n",
      "Epoch 4/10\n",
      " - 5s - loss: 0.0477 - acc: 0.9862 - val_loss: 0.0675 - val_acc: 0.9794\n",
      "Epoch 5/10\n",
      " - 5s - loss: 0.0361 - acc: 0.9888 - val_loss: 0.0728 - val_acc: 0.9784\n",
      "Epoch 6/10\n",
      " - 5s - loss: 0.0285 - acc: 0.9911 - val_loss: 0.0734 - val_acc: 0.9779\n",
      "Epoch 7/10\n",
      " - 5s - loss: 0.0215 - acc: 0.9936 - val_loss: 0.0706 - val_acc: 0.9809\n",
      "Epoch 8/10\n",
      " - 5s - loss: 0.0166 - acc: 0.9954 - val_loss: 0.0719 - val_acc: 0.9811\n",
      "Epoch 9/10\n",
      " - 5s - loss: 0.0131 - acc: 0.9959 - val_loss: 0.0722 - val_acc: 0.9821\n",
      "Epoch 10/10\n",
      " - 5s - loss: 0.0097 - acc: 0.9970 - val_loss: 0.0738 - val_acc: 0.9804\n"
     ]
    }
   ],
   "source": [
    "history = model.fit(x_train,y_train,\n",
    "                   batch_size=100,\n",
    "                   epochs=10,\n",
    "                   verbose=2,\n",
    "                   validation_data=(x_test, y_test))"
   ]
  },
  {
   "cell_type": "code",
   "execution_count": 31,
   "metadata": {
    "scrolled": true
   },
   "outputs": [
    {
     "name": "stdout",
     "output_type": "stream",
     "text": [
      "Test Loss: 0.07375666370040089\n",
      "Test Accuracy: 98.04%\n"
     ]
    }
   ],
   "source": [
    "score = model.evaluate(x_test,y_test,verbose=0)\n",
    "print(f\"Test Loss: {score[0]}\\nTest Accuracy: {score[1] * 100}%\")"
   ]
  },
  {
   "cell_type": "markdown",
   "metadata": {},
   "source": [
    "### Network trained on 1000 training examples"
   ]
  },
  {
   "cell_type": "code",
   "execution_count": 32,
   "metadata": {},
   "outputs": [],
   "source": [
    "(_x_train, _y_train), (_x_test, _y_test) = mnist.load_data()"
   ]
  },
  {
   "cell_type": "code",
   "execution_count": 33,
   "metadata": {},
   "outputs": [
    {
     "name": "stdout",
     "output_type": "stream",
     "text": [
      "x_train shape: (1000, 784)\n",
      "y_train shape: (1000, 10)\n",
      "x_test shape: (10000, 784)\n",
      "y_test shape: (10000, 10)\n",
      "\n"
     ]
    }
   ],
   "source": [
    "x_train = (_x_train.reshape(60000, 784).astype(\"float32\") / 255)[:1000,:]\n",
    "x_test = _x_test.reshape(10000, 784).astype(\"float32\") / 255\n",
    "\n",
    "y_train = keras.utils.to_categorical(_y_train, 10)[:1000,:]\n",
    "y_test = keras.utils.to_categorical(_y_test, 10)\n",
    "\n",
    "print(f\"x_train shape: {x_train.shape}\\ny_train shape: {y_train.shape}\\nx_test shape: {x_test.shape}\\ny_test shape: {y_test.shape}\\n\")"
   ]
  },
  {
   "cell_type": "code",
   "execution_count": 34,
   "metadata": {},
   "outputs": [
    {
     "data": {
      "image/png": "[encoded data removed]",
      "text/plain": [
       "<Figure size 432x288 with 1 Axes>"
      ]
     },
     "metadata": {},
     "output_type": "display_data"
    }
   ],
   "source": [
    "display_sample(35)"
   ]
  },
  {
   "cell_type": "code",
   "execution_count": 35,
   "metadata": {},
   "outputs": [],
   "source": [
    "model = Sequential()\n",
    "model.add(Dense(512, activation=\"relu\", input_shape=(784,)))\n",
    "model.add(Dense(10, activation=\"softmax\"))"
   ]
  },
  {
   "cell_type": "code",
   "execution_count": 36,
   "metadata": {},
   "outputs": [],
   "source": [
    "model.compile(loss=\"categorical_crossentropy\",\n",
    "              optimizer=RMSprop(),\n",
    "              metrics=[\"accuracy\"])"
   ]
  },
  {
   "cell_type": "code",
   "execution_count": 37,
   "metadata": {},
   "outputs": [
    {
     "name": "stdout",
     "output_type": "stream",
     "text": [
      "Train on 1000 samples, validate on 10000 samples\n",
      "Epoch 1/10\n",
      " - 1s - loss: 1.2214 - acc: 0.6620 - val_loss: 0.7132 - val_acc: 0.8158\n",
      "Epoch 2/10\n",
      " - 0s - loss: 0.5151 - acc: 0.8900 - val_loss: 0.5397 - val_acc: 0.8495\n",
      "Epoch 3/10\n",
      " - 0s - loss: 0.3854 - acc: 0.9000 - val_loss: 0.5096 - val_acc: 0.8484\n",
      "Epoch 4/10\n",
      " - 0s - loss: 0.2841 - acc: 0.9380 - val_loss: 0.4412 - val_acc: 0.8644\n",
      "Epoch 5/10\n",
      " - 0s - loss: 0.2302 - acc: 0.9510 - val_loss: 0.4055 - val_acc: 0.8769\n",
      "Epoch 6/10\n",
      " - 0s - loss: 0.1875 - acc: 0.9590 - val_loss: 0.4538 - val_acc: 0.8540\n",
      "Epoch 7/10\n",
      " - 0s - loss: 0.1522 - acc: 0.9770 - val_loss: 0.4140 - val_acc: 0.8701\n",
      "Epoch 8/10\n",
      " - 0s - loss: 0.1213 - acc: 0.9780 - val_loss: 0.4676 - val_acc: 0.8536\n",
      "Epoch 9/10\n",
      " - 0s - loss: 0.0913 - acc: 0.9860 - val_loss: 0.3654 - val_acc: 0.8899\n",
      "Epoch 10/10\n",
      " - 0s - loss: 0.0767 - acc: 0.9900 - val_loss: 0.4291 - val_acc: 0.8689\n"
     ]
    }
   ],
   "source": [
    "history = model.fit(x_train, y_train,\n",
    "                   batch_size=100,\n",
    "                   epochs=10,\n",
    "                   verbose=2,\n",
    "                   validation_data=(x_test,y_test))"
   ]
  },
  {
   "cell_type": "code",
   "execution_count": 38,
   "metadata": {},
   "outputs": [
    {
     "name": "stdout",
     "output_type": "stream",
     "text": [
      "Test loss: 0.42913979527950286\n",
      "Test Accuracy: 86.89%\n"
     ]
    }
   ],
   "source": [
    "score = model.evaluate(x_test, y_test, verbose=0)\n",
    "print(f\"Test loss: {score[0]}\\nTest Accuracy: {score[1] * 100}%\")"
   ]
  },
  {
   "cell_type": "code",
   "execution_count": 39,
   "metadata": {},
   "outputs": [
    {
     "name": "stdout",
     "output_type": "stream",
     "text": [
      "[3.0211819e-05 3.0772047e-05 3.0976891e-05 2.5470024e-02 4.1085366e-07\n",
      " 9.7408122e-01 5.8363128e-07 8.9244801e-05 2.2881337e-04 3.7733276e-05]\n"
     ]
    },
    {
     "data": {
      "text/plain": [
       "(1000, 10)"
      ]
     },
     "execution_count": 39,
     "metadata": {},
     "output_type": "execute_result"
    }
   ],
   "source": [
    "probabilities = model.predict(x_train, batch_size=100, verbose=0)\n",
    "print(probabilities[0])\n",
    "probabilities.shape"
   ]
  },
  {
   "cell_type": "markdown",
   "metadata": {},
   "source": [
    "### Network trained on 1000 training examples (Inverted images)"
   ]
  },
  {
   "cell_type": "code",
   "execution_count": 40,
   "metadata": {},
   "outputs": [],
   "source": [
    "(_x_train, _y_train),(_x_test, _y_test) = mnist.load_data()"
   ]
  },
  {
   "cell_type": "code",
   "execution_count": 41,
   "metadata": {},
   "outputs": [],
   "source": [
    "inverted_x_train = (255 - _x_train.reshape(60000, 784).astype(\"float32\"))[:1000,:] / 255\n",
    "inverted_x_test = (255 - _x_test.reshape(10000,784).astype(\"float32\")) / 255\n",
    "\n",
    "inverted_y_train = keras.utils.to_categorical(_y_train, 10)[:1000,:]\n",
    "inverted_y_test = keras.utils.to_categorical(_y_test, 10)"
   ]
  },
  {
   "cell_type": "code",
   "execution_count": 42,
   "metadata": {},
   "outputs": [
    {
     "data": {
      "image/png": "[encoded data removed]",
      "text/plain": [
       "<Figure size 432x288 with 1 Axes>"
      ]
     },
     "metadata": {},
     "output_type": "display_data"
    }
   ],
   "source": [
    "display_sample(8, True)"
   ]
  },
  {
   "cell_type": "code",
   "execution_count": 43,
   "metadata": {},
   "outputs": [],
   "source": [
    "inverted_model = Sequential()\n",
    "inverted_model.add(Dense(512, activation=\"relu\", input_shape=(784,)))\n",
    "inverted_model.add(Dense(10, activation=\"softmax\"))"
   ]
  },
  {
   "cell_type": "code",
   "execution_count": 44,
   "metadata": {},
   "outputs": [],
   "source": [
    "inverted_model.compile(loss=\"categorical_crossentropy\", metrics=[\"accuracy\"], optimizer=RMSprop())"
   ]
  },
  {
   "cell_type": "code",
   "execution_count": 45,
   "metadata": {},
   "outputs": [
    {
     "name": "stdout",
     "output_type": "stream",
     "text": [
      "Train on 1000 samples, validate on 10000 samples\n",
      "Epoch 1/10\n",
      " - 1s - loss: 6.3059 - acc: 0.1490 - val_loss: 4.9929 - val_acc: 0.2611\n",
      "Epoch 2/10\n",
      " - 0s - loss: 3.4103 - acc: 0.2790 - val_loss: 2.1348 - val_acc: 0.1804\n",
      "Epoch 3/10\n",
      " - 0s - loss: 1.8533 - acc: 0.4000 - val_loss: 2.1704 - val_acc: 0.3030\n",
      "Epoch 4/10\n",
      " - 0s - loss: 1.7130 - acc: 0.4810 - val_loss: 1.4995 - val_acc: 0.4898\n",
      "Epoch 5/10\n",
      " - 0s - loss: 1.6117 - acc: 0.5080 - val_loss: 1.3557 - val_acc: 0.5208\n",
      "Epoch 6/10\n",
      " - 0s - loss: 1.3630 - acc: 0.5790 - val_loss: 1.3590 - val_acc: 0.6396\n",
      "Epoch 7/10\n",
      " - 0s - loss: 1.2930 - acc: 0.6030 - val_loss: 1.2537 - val_acc: 0.6688\n",
      "Epoch 8/10\n",
      " - 0s - loss: 1.1771 - acc: 0.6460 - val_loss: 1.3496 - val_acc: 0.5898\n",
      "Epoch 9/10\n",
      " - 0s - loss: 1.1444 - acc: 0.6200 - val_loss: 1.2857 - val_acc: 0.6748\n",
      "Epoch 10/10\n",
      " - 0s - loss: 0.9660 - acc: 0.7060 - val_loss: 0.9548 - val_acc: 0.6927\n"
     ]
    }
   ],
   "source": [
    "inverted_history = inverted_model.fit(inverted_x_train, inverted_y_train,\n",
    "                    batch_size=100,\n",
    "                    epochs=10,\n",
    "                    verbose=2,\n",
    "                    validation_data=(inverted_x_test, inverted_y_test))"
   ]
  },
  {
   "cell_type": "code",
   "execution_count": 1,
   "metadata": {},
   "outputs": [
    {
     "ename": "NameError",
     "evalue": "name 'inverted_model' is not defined",
     "output_type": "error",
     "traceback": [
      "\u001b[0;31m---------------------------------------------------------------------------\u001b[0m",
      "\u001b[0;31mNameError\u001b[0m                                 Traceback (most recent call last)",
      "\u001b[0;32m<ipython-input-1-35865fa292a1>\u001b[0m in \u001b[0;36m<module>\u001b[0;34m()\u001b[0m\n\u001b[0;32m----> 1\u001b[0;31m \u001b[0minverted_score\u001b[0m \u001b[0;34m=\u001b[0m \u001b[0minverted_model\u001b[0m\u001b[0;34m.\u001b[0m\u001b[0mevaluate\u001b[0m\u001b[0;34m(\u001b[0m\u001b[0minverted_x_test\u001b[0m\u001b[0;34m,\u001b[0m \u001b[0minverted_y_test\u001b[0m\u001b[0;34m,\u001b[0m \u001b[0mverbose\u001b[0m\u001b[0;34m=\u001b[0m\u001b[0;36m0\u001b[0m\u001b[0;34m)\u001b[0m\u001b[0;34m\u001b[0m\u001b[0m\n\u001b[0m\u001b[1;32m      2\u001b[0m \u001b[0mprint\u001b[0m\u001b[0;34m(\u001b[0m\u001b[0;34mf\"Test score: {inverted_score[0]}\\nTest accuracy: {inverted_score[1] * 100}%\"\u001b[0m\u001b[0;34m)\u001b[0m\u001b[0;34m\u001b[0m\u001b[0m\n",
      "\u001b[0;31mNameError\u001b[0m: name 'inverted_model' is not defined"
     ]
    }
   ],
   "source": [
    "inverted_score = inverted_model.evaluate(inverted_x_test, inverted_y_test, verbose=0)\n",
    "print(f\"Test score: {inverted_score[0]}\\nTest accuracy: {inverted_score[1] * 100}%\")"
   ]
  },
  {
   "cell_type": "code",
   "execution_count": 47,
   "metadata": {},
   "outputs": [
    {
     "name": "stdout",
     "output_type": "stream",
     "text": [
      "1.0000000342261046\n"
     ]
    },
    {
     "data": {
      "text/plain": [
       "(1000, 10)"
      ]
     },
     "execution_count": 47,
     "metadata": {},
     "output_type": "execute_result"
    }
   ],
   "source": [
    "inverted_probabilities = inverted_model.predict(inverted_x_train, batch_size=100, verbose=0)\n",
    "print(sum(inverted_probabilities[0]))\n",
    "inverted_probabilities.shape"
   ]
  },
  {
   "cell_type": "markdown",
   "metadata": {},
   "source": [
    "### Training a 3rd network on probabilities"
   ]
  },
  {
   "cell_type": "code",
   "execution_count": 48,
   "metadata": {},
   "outputs": [],
   "source": [
    "def merge_probabilities(original, inverted):\n",
    "    final = []\n",
    "    for i in range(len(original)):\n",
    "        temp = np.concatenate((original[i],inverted[i]), axis=0)\n",
    "        final.append(temp)\n",
    "    return final"
   ]
  },
  {
   "cell_type": "code",
   "execution_count": 49,
   "metadata": {},
   "outputs": [],
   "source": [
    "probs_orig = model.predict(x_test, batch_size=100, verbose=0)\n",
    "probs_inv = inverted_model.predict(x_test, batch_size=100, verbose=0)"
   ]
  },
  {
   "cell_type": "code",
   "execution_count": 50,
   "metadata": {},
   "outputs": [
    {
     "name": "stdout",
     "output_type": "stream",
     "text": [
      "probs_x_train shape: (1000, 20)\n",
      "probs_y_train shape: (1000, 10)\n",
      "probs_x_test shape: (10000, 20)\n",
      "probs_y_test shape: (10000, 10)\n",
      "\n"
     ]
    }
   ],
   "source": [
    "probs_x_train = np.array(merge_probabilities(probabilities, inverted_probabilities))\n",
    "probs_x_test = np.array(merge_probabilities(probs_orig, probs_inv))\n",
    "probs_y_train = keras.utils.to_categorical(_y_train,10)[:1000,:]\n",
    "probs_y_test = keras.utils.to_categorical(_y_test, 10)\n",
    "print(f\"probs_x_train shape: {probs_x_train.shape}\\nprobs_y_train shape: {probs_y_train.shape}\\nprobs_x_test shape: {probs_x_test.shape}\\nprobs_y_test shape: {probs_y_test.shape}\\n\")"
   ]
  },
  {
   "cell_type": "code",
   "execution_count": 51,
   "metadata": {},
   "outputs": [],
   "source": [
    "probs_model = Sequential()\n",
    "probs_model.add(Dense(512, activation=\"relu\",input_shape=(20,)))\n",
    "probs_model.add(Dense(10, activation=\"softmax\"))"
   ]
  },
  {
   "cell_type": "code",
   "execution_count": 52,
   "metadata": {},
   "outputs": [],
   "source": [
    "probs_model.compile(loss=\"categorical_crossentropy\",\n",
    "              optimizer=RMSprop(),\n",
    "              metrics=[\"accuracy\"])"
   ]
  },
  {
   "cell_type": "code",
   "execution_count": 53,
   "metadata": {},
   "outputs": [
    {
     "name": "stdout",
     "output_type": "stream",
     "text": [
      "Train on 1000 samples, validate on 10000 samples\n",
      "Epoch 1/10\n",
      " - 0s - loss: 1.9801 - acc: 0.8050 - val_loss: 1.9561 - val_acc: 0.8602\n",
      "Epoch 2/10\n",
      " - 0s - loss: 1.4718 - acc: 0.9920 - val_loss: 1.6708 - val_acc: 0.8678\n",
      "Epoch 3/10\n",
      " - 0s - loss: 1.0378 - acc: 0.9910 - val_loss: 1.3918 - val_acc: 0.8682\n",
      "Epoch 4/10\n",
      " - 0s - loss: 0.6873 - acc: 0.9910 - val_loss: 1.1480 - val_acc: 0.8695\n",
      "Epoch 5/10\n",
      " - 0s - loss: 0.4382 - acc: 0.9910 - val_loss: 0.9486 - val_acc: 0.8693\n",
      "Epoch 6/10\n",
      " - 0s - loss: 0.2786 - acc: 0.9900 - val_loss: 0.7987 - val_acc: 0.8689\n",
      "Epoch 7/10\n",
      " - 0s - loss: 0.1810 - acc: 0.9910 - val_loss: 0.6912 - val_acc: 0.8696\n",
      "Epoch 8/10\n",
      " - 0s - loss: 0.1218 - acc: 0.9930 - val_loss: 0.6156 - val_acc: 0.8703\n",
      "Epoch 9/10\n",
      " - 0s - loss: 0.0856 - acc: 0.9930 - val_loss: 0.5679 - val_acc: 0.8712\n",
      "Epoch 10/10\n",
      " - 0s - loss: 0.0634 - acc: 0.9940 - val_loss: 0.5399 - val_acc: 0.8715\n"
     ]
    }
   ],
   "source": [
    "probs_history = probs_model.fit(probs_x_train, probs_y_train,\n",
    "                               batch_size=100,\n",
    "                               epochs=10,\n",
    "                               verbose=2,\n",
    "                               validation_data=(probs_x_test,probs_y_test))"
   ]
  },
  {
   "cell_type": "code",
   "execution_count": 54,
   "metadata": {},
   "outputs": [
    {
     "name": "stdout",
     "output_type": "stream",
     "text": [
      "Test score: 0.5399050549507141\n",
      "Test accuracy: 87.15%\n"
     ]
    }
   ],
   "source": [
    "probs_score = probs_model.evaluate(probs_x_test,probs_y_test, verbose=0)\n",
    "print(f\"Test score: {probs_score[0]}\\nTest accuracy: {probs_score[1]*100}%\")"
   ]
  }
 ],
 "metadata": {
  "kernelspec": {
   "display_name": "Python 3",
   "language": "python",
   "name": "python3"
  },
  "language_info": {
   "codemirror_mode": {
    "name": "ipython",
    "version": 3
   },
   "file_extension": ".py",
   "mimetype": "text/x-python",
   "name": "python",
   "nbconvert_exporter": "python",
   "pygments_lexer": "ipython3",
   "version": "3.6.4"
  }
 },
 "nbformat": 4,
 "nbformat_minor": 2
}
